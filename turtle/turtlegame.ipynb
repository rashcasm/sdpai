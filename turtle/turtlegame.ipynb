{
 "cells": [
  {
   "cell_type": "code",
   "execution_count": 9,
   "id": "7975dd01-dc60-4f21-b77a-4b43b8e59bef",
   "metadata": {},
   "outputs": [],
   "source": [
    "from turtle import *\n",
    "from random import *\n",
    "import turtle\n",
    "import time\n",
    "\n",
    "#setting up screen\n",
    "setup(800, 500)\n",
    "title(\"Rashmin's Turtle Race\")\n",
    "bgcolor(\"forestgreen\")\n",
    "speed(0)\n",
    "\n",
    "exitonclick()"
   ]
  },
  {
   "cell_type": "code",
   "execution_count": 13,
   "id": "6d241d13-cba2-4205-a4a5-3bdc88316253",
   "metadata": {},
   "outputs": [],
   "source": [
    "from turtle import *\n",
    "from random import *\n",
    "import turtle\n",
    "import time\n",
    "\n",
    "#setting up screen\n",
    "setup(800, 500)\n",
    "title(\"Rashmin's Turtle Race\")\n",
    "bgcolor(\"forestgreen\")\n",
    "speed(0)\n",
    "\n",
    "#heading\n",
    "penup()\n",
    "goto(-100,205)\n",
    "color(\"white\")\n",
    "write(\"TURTLE RACE\")\n",
    "\n",
    "exitonclick()"
   ]
  },
  {
   "cell_type": "code",
   "execution_count": null,
   "id": "03e36847-ea32-47e2-bb01-1b0986e8639c",
   "metadata": {},
   "outputs": [],
   "source": []
  }
 ],
 "metadata": {
  "kernelspec": {
   "display_name": "Python 3 (ipykernel)",
   "language": "python",
   "name": "python3"
  },
  "language_info": {
   "codemirror_mode": {
    "name": "ipython",
    "version": 3
   },
   "file_extension": ".py",
   "mimetype": "text/x-python",
   "name": "python",
   "nbconvert_exporter": "python",
   "pygments_lexer": "ipython3",
   "version": "3.11.4"
  }
 },
 "nbformat": 4,
 "nbformat_minor": 5
}
