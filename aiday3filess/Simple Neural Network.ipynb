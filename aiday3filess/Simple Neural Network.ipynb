{
 "cells": [
  {
   "cell_type": "markdown",
   "metadata": {},
   "source": [
    "Load and Preprocess the Data"
   ]
  },
  {
   "cell_type": "code",
   "execution_count": 1,
   "metadata": {
    "scrolled": true
   },
   "outputs": [],
   "source": [
    "import numpy as np\n",
    "import pandas as pd\n",
    "from sklearn.datasets import load_iris\n",
    "from sklearn.model_selection import train_test_split\n",
    "from sklearn.preprocessing import StandardScaler, LabelBinarizer\n",
    "\n",
    "# Load the Iris dataset\n",
    "iris = load_iris()\n",
    "X = iris.data\n",
    "y = iris.target\n",
    "\n",
    "# Standardize the data\n",
    "scaler = StandardScaler()\n",
    "X_scaled = scaler.fit_transform(X)\n",
    "\n",
    "# Convert labels to one-hot encoding\n",
    "encoder = LabelBinarizer()\n",
    "y_onehot = encoder.fit_transform(y)\n",
    "\n",
    "# Split the dataset into training and testing sets\n",
    "X_train, X_test, y_train, y_test = train_test_split(X_scaled, y_onehot, test_size=0.3, random_state=42)"
   ]
  },
  {
   "cell_type": "markdown",
   "metadata": {},
   "source": [
    "Build the Neural Network Model (TensorFlow/Keras to build a simple feedforward neural network.)"
   ]
  },
  {
   "cell_type": "code",
   "execution_count": 3,
   "metadata": {},
   "outputs": [],
   "source": [
    "import tensorflow as tf\n",
    "from tensorflow.keras.models import Sequential\n",
    "from tensorflow.keras.layers import Dense\n",
    "\n",
    "# Build the neural network model\n",
    "model = Sequential([\n",
    "    Dense(10, input_shape=(4,), activation='relu'),\n",
    "    Dense(10, activation='relu'),\n",
    "    Dense(3, activation='softmax')\n",
    "])"
   ]
  },
  {
   "cell_type": "markdown",
   "metadata": {},
   "source": [
    "Compile and Train the Model (compile the model with a loss function, optimizer, and metric, and then train it.)"
   ]
  },
  {
   "cell_type": "code",
   "execution_count": 4,
   "metadata": {},
   "outputs": [
    {
     "name": "stdout",
     "output_type": "stream",
     "text": [
      "Epoch 1/50\n",
      "17/17 [==============================] - 0s 19ms/step - loss: 0.9794 - accuracy: 0.5000 - val_loss: 0.9677 - val_accuracy: 0.5238\n",
      "Epoch 2/50\n",
      "17/17 [==============================] - 0s 2ms/step - loss: 0.9114 - accuracy: 0.6071 - val_loss: 0.9176 - val_accuracy: 0.6190\n",
      "Epoch 3/50\n",
      "17/17 [==============================] - 0s 2ms/step - loss: 0.8562 - accuracy: 0.7143 - val_loss: 0.8698 - val_accuracy: 0.7619\n",
      "Epoch 4/50\n",
      "17/17 [==============================] - 0s 2ms/step - loss: 0.8028 - accuracy: 0.8095 - val_loss: 0.8233 - val_accuracy: 0.7619\n",
      "Epoch 5/50\n",
      "17/17 [==============================] - 0s 2ms/step - loss: 0.7503 - accuracy: 0.8095 - val_loss: 0.7813 - val_accuracy: 0.7619\n",
      "Epoch 6/50\n",
      "17/17 [==============================] - 0s 2ms/step - loss: 0.7006 - accuracy: 0.8333 - val_loss: 0.7430 - val_accuracy: 0.7619\n",
      "Epoch 7/50\n",
      "17/17 [==============================] - 0s 3ms/step - loss: 0.6540 - accuracy: 0.8333 - val_loss: 0.7069 - val_accuracy: 0.8095\n",
      "Epoch 8/50\n",
      "17/17 [==============================] - 0s 2ms/step - loss: 0.6130 - accuracy: 0.8333 - val_loss: 0.6725 - val_accuracy: 0.8095\n",
      "Epoch 9/50\n",
      "17/17 [==============================] - 0s 2ms/step - loss: 0.5747 - accuracy: 0.8333 - val_loss: 0.6420 - val_accuracy: 0.8095\n",
      "Epoch 10/50\n",
      "17/17 [==============================] - 0s 2ms/step - loss: 0.5412 - accuracy: 0.8333 - val_loss: 0.6161 - val_accuracy: 0.8095\n",
      "Epoch 11/50\n",
      "17/17 [==============================] - 0s 2ms/step - loss: 0.5113 - accuracy: 0.8333 - val_loss: 0.5906 - val_accuracy: 0.8095\n",
      "Epoch 12/50\n",
      "17/17 [==============================] - 0s 2ms/step - loss: 0.4844 - accuracy: 0.8333 - val_loss: 0.5671 - val_accuracy: 0.8095\n",
      "Epoch 13/50\n",
      "17/17 [==============================] - 0s 2ms/step - loss: 0.4605 - accuracy: 0.8333 - val_loss: 0.5459 - val_accuracy: 0.8571\n",
      "Epoch 14/50\n",
      "17/17 [==============================] - 0s 2ms/step - loss: 0.4380 - accuracy: 0.8333 - val_loss: 0.5286 - val_accuracy: 0.8571\n",
      "Epoch 15/50\n",
      "17/17 [==============================] - 0s 2ms/step - loss: 0.4177 - accuracy: 0.8333 - val_loss: 0.5117 - val_accuracy: 0.8571\n",
      "Epoch 16/50\n",
      "17/17 [==============================] - 0s 2ms/step - loss: 0.4008 - accuracy: 0.8333 - val_loss: 0.4961 - val_accuracy: 0.8571\n",
      "Epoch 17/50\n",
      "17/17 [==============================] - 0s 2ms/step - loss: 0.3831 - accuracy: 0.8333 - val_loss: 0.4842 - val_accuracy: 0.8571\n",
      "Epoch 18/50\n",
      "17/17 [==============================] - 0s 2ms/step - loss: 0.3666 - accuracy: 0.8333 - val_loss: 0.4726 - val_accuracy: 0.8571\n",
      "Epoch 19/50\n",
      "17/17 [==============================] - 0s 2ms/step - loss: 0.3537 - accuracy: 0.8333 - val_loss: 0.4601 - val_accuracy: 0.8571\n",
      "Epoch 20/50\n",
      "17/17 [==============================] - 0s 2ms/step - loss: 0.3411 - accuracy: 0.8333 - val_loss: 0.4517 - val_accuracy: 0.8571\n",
      "Epoch 21/50\n",
      "17/17 [==============================] - 0s 2ms/step - loss: 0.3294 - accuracy: 0.8452 - val_loss: 0.4451 - val_accuracy: 0.8571\n",
      "Epoch 22/50\n",
      "17/17 [==============================] - 0s 2ms/step - loss: 0.3205 - accuracy: 0.8571 - val_loss: 0.4375 - val_accuracy: 0.8571\n",
      "Epoch 23/50\n",
      "17/17 [==============================] - 0s 3ms/step - loss: 0.3108 - accuracy: 0.8810 - val_loss: 0.4318 - val_accuracy: 0.8571\n",
      "Epoch 24/50\n",
      "17/17 [==============================] - 0s 2ms/step - loss: 0.3030 - accuracy: 0.8810 - val_loss: 0.4243 - val_accuracy: 0.8571\n",
      "Epoch 25/50\n",
      "17/17 [==============================] - 0s 2ms/step - loss: 0.2968 - accuracy: 0.8810 - val_loss: 0.4183 - val_accuracy: 0.8571\n",
      "Epoch 26/50\n",
      "17/17 [==============================] - 0s 2ms/step - loss: 0.2876 - accuracy: 0.8810 - val_loss: 0.4114 - val_accuracy: 0.8571\n",
      "Epoch 27/50\n",
      "17/17 [==============================] - 0s 2ms/step - loss: 0.2820 - accuracy: 0.8810 - val_loss: 0.4063 - val_accuracy: 0.8571\n",
      "Epoch 28/50\n",
      "17/17 [==============================] - 0s 2ms/step - loss: 0.2756 - accuracy: 0.8690 - val_loss: 0.3994 - val_accuracy: 0.8571\n",
      "Epoch 29/50\n",
      "17/17 [==============================] - 0s 2ms/step - loss: 0.2703 - accuracy: 0.8690 - val_loss: 0.3956 - val_accuracy: 0.8571\n",
      "Epoch 30/50\n",
      "17/17 [==============================] - 0s 2ms/step - loss: 0.2654 - accuracy: 0.8571 - val_loss: 0.3886 - val_accuracy: 0.9048\n",
      "Epoch 31/50\n",
      "17/17 [==============================] - 0s 2ms/step - loss: 0.2603 - accuracy: 0.8929 - val_loss: 0.3872 - val_accuracy: 0.9048\n",
      "Epoch 32/50\n",
      "17/17 [==============================] - 0s 2ms/step - loss: 0.2547 - accuracy: 0.8810 - val_loss: 0.3799 - val_accuracy: 0.9048\n",
      "Epoch 33/50\n",
      "17/17 [==============================] - 0s 2ms/step - loss: 0.2502 - accuracy: 0.8810 - val_loss: 0.3746 - val_accuracy: 0.9048\n",
      "Epoch 34/50\n",
      "17/17 [==============================] - 0s 2ms/step - loss: 0.2446 - accuracy: 0.8929 - val_loss: 0.3723 - val_accuracy: 0.9048\n",
      "Epoch 35/50\n",
      "17/17 [==============================] - 0s 2ms/step - loss: 0.2404 - accuracy: 0.9048 - val_loss: 0.3656 - val_accuracy: 0.9048\n",
      "Epoch 36/50\n",
      "17/17 [==============================] - 0s 2ms/step - loss: 0.2348 - accuracy: 0.8929 - val_loss: 0.3572 - val_accuracy: 0.9048\n",
      "Epoch 37/50\n",
      "17/17 [==============================] - 0s 2ms/step - loss: 0.2300 - accuracy: 0.9167 - val_loss: 0.3519 - val_accuracy: 0.9048\n",
      "Epoch 38/50\n",
      "17/17 [==============================] - 0s 2ms/step - loss: 0.2248 - accuracy: 0.9167 - val_loss: 0.3447 - val_accuracy: 0.9048\n",
      "Epoch 39/50\n",
      "17/17 [==============================] - 0s 2ms/step - loss: 0.2189 - accuracy: 0.9048 - val_loss: 0.3363 - val_accuracy: 0.9048\n",
      "Epoch 40/50\n",
      "17/17 [==============================] - 0s 2ms/step - loss: 0.2140 - accuracy: 0.9167 - val_loss: 0.3273 - val_accuracy: 0.9048\n",
      "Epoch 41/50\n",
      "17/17 [==============================] - 0s 2ms/step - loss: 0.2070 - accuracy: 0.9048 - val_loss: 0.3157 - val_accuracy: 0.9048\n",
      "Epoch 42/50\n",
      "17/17 [==============================] - 0s 2ms/step - loss: 0.2025 - accuracy: 0.9167 - val_loss: 0.3088 - val_accuracy: 0.9048\n",
      "Epoch 43/50\n",
      "17/17 [==============================] - ETA: 0s - loss: 0.1291 - accuracy: 1.00 - 0s 2ms/step - loss: 0.1951 - accuracy: 0.9286 - val_loss: 0.3001 - val_accuracy: 0.9048\n",
      "Epoch 44/50\n",
      "17/17 [==============================] - 0s 2ms/step - loss: 0.1912 - accuracy: 0.9286 - val_loss: 0.2925 - val_accuracy: 0.9048\n",
      "Epoch 45/50\n",
      "17/17 [==============================] - 0s 2ms/step - loss: 0.1853 - accuracy: 0.9286 - val_loss: 0.2793 - val_accuracy: 0.9048\n",
      "Epoch 46/50\n",
      "17/17 [==============================] - 0s 2ms/step - loss: 0.1801 - accuracy: 0.9167 - val_loss: 0.2734 - val_accuracy: 0.9048\n",
      "Epoch 47/50\n",
      "17/17 [==============================] - 0s 2ms/step - loss: 0.1742 - accuracy: 0.9405 - val_loss: 0.2718 - val_accuracy: 0.9524\n",
      "Epoch 48/50\n",
      "17/17 [==============================] - 0s 2ms/step - loss: 0.1711 - accuracy: 0.9405 - val_loss: 0.2608 - val_accuracy: 0.9524\n",
      "Epoch 49/50\n",
      "17/17 [==============================] - 0s 2ms/step - loss: 0.1658 - accuracy: 0.9405 - val_loss: 0.2578 - val_accuracy: 0.9524\n",
      "Epoch 50/50\n",
      "17/17 [==============================] - 0s 2ms/step - loss: 0.1617 - accuracy: 0.9405 - val_loss: 0.2542 - val_accuracy: 0.9524\n"
     ]
    }
   ],
   "source": [
    "# Compile the model\n",
    "model.compile(optimizer='adam',\n",
    "              loss='categorical_crossentropy',\n",
    "              metrics=['accuracy'])\n",
    "\n",
    "# Train the model\n",
    "history = model.fit(X_train, y_train, epochs=50, batch_size=5, validation_split=0.2)"
   ]
  },
  {
   "cell_type": "markdown",
   "metadata": {},
   "source": [
    "Evaluate the Model"
   ]
  },
  {
   "cell_type": "code",
   "execution_count": 5,
   "metadata": {},
   "outputs": [
    {
     "name": "stdout",
     "output_type": "stream",
     "text": [
      "2/2 [==============================] - 0s 4ms/step - loss: 0.1237 - accuracy: 1.0000\n",
      "Test Accuracy: 1.00\n"
     ]
    }
   ],
   "source": [
    "# Evaluate the model\n",
    "loss, accuracy = model.evaluate(X_test, y_test)\n",
    "print(f'Test Accuracy: {accuracy:.2f}')"
   ]
  },
  {
   "cell_type": "markdown",
   "metadata": {},
   "source": [
    "Make Predictions"
   ]
  },
  {
   "cell_type": "code",
   "execution_count": 7,
   "metadata": {},
   "outputs": [
    {
     "name": "stdout",
     "output_type": "stream",
     "text": [
      "Predicted class: ['setosa']\n"
     ]
    }
   ],
   "source": [
    "# Make predictions on new data\n",
    "new_data = np.array([[5.1, 3.5, 1.4, 0.2]])\n",
    "new_data_scaled = scaler.transform(new_data)\n",
    "predictions = model.predict(new_data_scaled)\n",
    "predicted_class = np.argmax(predictions, axis=1)\n",
    "print('Predicted class:', iris.target_names[predicted_class])\n"
   ]
  },
  {
   "cell_type": "code",
   "execution_count": null,
   "metadata": {},
   "outputs": [],
   "source": []
  }
 ],
 "metadata": {
  "kernelspec": {
   "display_name": "Python 3 (ipykernel)",
   "language": "python",
   "name": "python3"
  },
  "language_info": {
   "codemirror_mode": {
    "name": "ipython",
    "version": 3
   },
   "file_extension": ".py",
   "mimetype": "text/x-python",
   "name": "python",
   "nbconvert_exporter": "python",
   "pygments_lexer": "ipython3",
   "version": "3.11.4"
  }
 },
 "nbformat": 4,
 "nbformat_minor": 4
}
